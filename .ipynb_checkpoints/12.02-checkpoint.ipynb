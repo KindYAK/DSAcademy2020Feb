{
 "cells": [
  {
   "cell_type": "code",
   "execution_count": 6,
   "metadata": {},
   "outputs": [],
   "source": [
    "n = 56"
   ]
  },
  {
   "cell_type": "code",
   "execution_count": 7,
   "metadata": {},
   "outputs": [],
   "source": [
    "a1 = a // 10\n",
    "a2 = a % 10"
   ]
  },
  {
   "cell_type": "code",
   "execution_count": 11,
   "metadata": {},
   "outputs": [
    {
     "name": "stdout",
     "output_type": "stream",
     "text": [
      "LVI\n"
     ]
    }
   ],
   "source": [
    "if a1 == 5:\n",
    "    print(\"L\", end=\"\")\n",
    "elif a1 == 4:\n",
    "    print(\"XL\", end=\"\")\n",
    "elif a1 == 3:\n",
    "    print(\"XXX\", end=\"\")\n",
    "elif a2 == 2:\n",
    "    print(\"XX\", end=\"\")\n",
    "elif a2 == 1:\n",
    "    print(\"X\")\n",
    "    \n",
    "if a2 == 9:\n",
    "    print(\"IX\")\n",
    "elif a2 == 6:\n",
    "    print(\"VI\")\n",
    "#..."
   ]
  },
  {
   "cell_type": "code",
   "execution_count": 14,
   "metadata": {},
   "outputs": [],
   "source": [
    "a = [1, 34, 23, \"asdf\", False, [], [1, 2, 3]]"
   ]
  },
  {
   "cell_type": "code",
   "execution_count": 19,
   "metadata": {},
   "outputs": [],
   "source": [
    "a[0] = \"HELLO)))\""
   ]
  },
  {
   "cell_type": "code",
   "execution_count": 21,
   "metadata": {},
   "outputs": [],
   "source": [
    "a.append(\"End of list\")"
   ]
  },
  {
   "cell_type": "code",
   "execution_count": 23,
   "metadata": {},
   "outputs": [],
   "source": [
    "del a[2]"
   ]
  },
  {
   "cell_type": "code",
   "execution_count": 25,
   "metadata": {},
   "outputs": [
    {
     "data": {
      "text/plain": [
       "['HELLO)))', 34, 'asdf', False, [], [1, 2, 3], 'End of list']"
      ]
     },
     "execution_count": 25,
     "metadata": {},
     "output_type": "execute_result"
    }
   ],
   "source": [
    "a"
   ]
  },
  {
   "cell_type": "code",
   "execution_count": 27,
   "metadata": {},
   "outputs": [
    {
     "data": {
      "text/plain": [
       "[34, 'asdf', 'End of list']"
      ]
     },
     "execution_count": 27,
     "metadata": {},
     "output_type": "execute_result"
    }
   ],
   "source": [
    "a[1:3] + a[6:]"
   ]
  },
  {
   "cell_type": "code",
   "execution_count": 32,
   "metadata": {},
   "outputs": [
    {
     "data": {
      "text/plain": [
       "[[1, 2, 3], 'End of list']"
      ]
     },
     "execution_count": 32,
     "metadata": {},
     "output_type": "execute_result"
    }
   ],
   "source": [
    "a[-2:]"
   ]
  },
  {
   "cell_type": "code",
   "execution_count": 36,
   "metadata": {},
   "outputs": [],
   "source": [
    "a.insert(2, \"Middle\")"
   ]
  },
  {
   "cell_type": "code",
   "execution_count": 37,
   "metadata": {},
   "outputs": [
    {
     "data": {
      "text/plain": [
       "['HELLO)))', 34, 'Middle', 'asdf', False, [], [1, 2, 3], 'End of list']"
      ]
     },
     "execution_count": 37,
     "metadata": {},
     "output_type": "execute_result"
    }
   ],
   "source": [
    "a"
   ]
  },
  {
   "cell_type": "code",
   "execution_count": 40,
   "metadata": {},
   "outputs": [
    {
     "name": "stdout",
     "output_type": "stream",
     "text": [
      "asdfasdf\n",
      "as\n",
      "f\n",
      "asdf\n",
      "as\n",
      "df\n",
      "asd\n",
      "\n",
      "sd\n",
      "sdf\n"
     ]
    }
   ],
   "source": [
    "a1 = []\n",
    "for _ in range(10):\n",
    "    a1.append(input())"
   ]
  },
  {
   "cell_type": "code",
   "execution_count": 41,
   "metadata": {},
   "outputs": [
    {
     "data": {
      "text/plain": [
       "['asdfasdf', 'as', 'f', 'asdf', 'as', 'df', 'asd', '', 'sd', 'sdf']"
      ]
     },
     "execution_count": 41,
     "metadata": {},
     "output_type": "execute_result"
    }
   ],
   "source": [
    "a1"
   ]
  },
  {
   "cell_type": "code",
   "execution_count": 42,
   "metadata": {},
   "outputs": [],
   "source": [
    "a = [10000, 50000, 20000, 1000, 5000]"
   ]
  },
  {
   "cell_type": "code",
   "execution_count": 45,
   "metadata": {},
   "outputs": [
    {
     "name": "stdout",
     "output_type": "stream",
     "text": [
      "10000\n",
      "50000\n",
      "20000\n",
      "1000\n",
      "5000\n"
     ]
    }
   ],
   "source": [
    "total_profit = 0\n",
    "for i in a:\n",
    "    total_profit += i"
   ]
  },
  {
   "cell_type": "code",
   "execution_count": 59,
   "metadata": {},
   "outputs": [
    {
     "name": "stdout",
     "output_type": "stream",
     "text": [
      "2 50000\n",
      "3 20000\n",
      "4 1000\n",
      "5 5000\n",
      "1 1000\n"
     ]
    }
   ],
   "source": [
    "a = [1000, 50000, 20000, 1000, 5000]\n",
    "max_profit = a[0]\n",
    "max_month = 1\n",
    "month_number = 1\n",
    "for profit in a[1:]:\n",
    "    month_number += 1\n",
    "    if profit > max_profit:\n",
    "        max_profit = profit\n",
    "        max_month = month_number\n",
    "print(max_month, max_profit)"
   ]
  },
  {
   "cell_type": "code",
   "execution_count": 65,
   "metadata": {},
   "outputs": [
    {
     "name": "stdout",
     "output_type": "stream",
     "text": [
      "2 50000\n"
     ]
    }
   ],
   "source": [
    "a = [1000, 50000, 20000, 1000, 5000]\n",
    "max_profit = a[0]\n",
    "max_month = 1\n",
    "for month_number in range(len(a)):\n",
    "    if a[month_number] > max_profit:\n",
    "        max_profit = a[month_number]\n",
    "        max_month = month_number\n",
    "print(max_month + 1, max_profit)"
   ]
  },
  {
   "cell_type": "code",
   "execution_count": 74,
   "metadata": {},
   "outputs": [
    {
     "name": "stdout",
     "output_type": "stream",
     "text": [
      "2 50000\n"
     ]
    }
   ],
   "source": [
    "a = [1000, 50000, 20000, 1000, 5000]\n",
    "max_profit = a[0]\n",
    "max_month = 1\n",
    "for month_number, profit in enumerate(a[1:], start=2):\n",
    "    if profit > max_profit:\n",
    "        max_profit = profit\n",
    "        max_month = month_number\n",
    "print(max_month, max_profit)"
   ]
  },
  {
   "cell_type": "code",
   "execution_count": 75,
   "metadata": {},
   "outputs": [
    {
     "name": "stdout",
     "output_type": "stream",
     "text": [
      "5 1\n",
      "6 2\n",
      "7 3\n"
     ]
    }
   ],
   "source": [
    "b = [1, 2, 3]\n",
    "for i, j in enumerate(b, start=5):\n",
    "    print(i, j)"
   ]
  },
  {
   "cell_type": "code",
   "execution_count": 83,
   "metadata": {},
   "outputs": [],
   "source": [
    "employees = [\n",
    "    {\n",
    "        \"name\": \"John\",\n",
    "        \"salary\": 150000,\n",
    "        \"city\": \"Almaty\"\n",
    "    }, \n",
    "    {\n",
    "        \"name\": \"John Doe\",\n",
    "        \"salary\": 550000,\n",
    "        \"city\": \"Astana\"\n",
    "    }, \n",
    "    {\n",
    "        \"name\": \"John 2\",\n",
    "        \"salary\": 200000,\n",
    "        \"city\": \"Astana\"\n",
    "    }, \n",
    "    {\n",
    "        \"name\": \"John3\",\n",
    "        \"salary\": 500000,\n",
    "        \"city\": \"Shymkent\"\n",
    "    }, \n",
    "    {\n",
    "        \"name\": \"Johan\",\n",
    "        \"salary\": 220000,\n",
    "        \"city\": \"Shymkent\"\n",
    "    }, \n",
    "]"
   ]
  },
  {
   "cell_type": "code",
   "execution_count": 90,
   "metadata": {},
   "outputs": [
    {
     "name": "stdout",
     "output_type": "stream",
     "text": [
      "550000 Astana\n"
     ]
    }
   ],
   "source": [
    "max_profit = employees[0][\"salary\"]\n",
    "max_city = employees[0][\"city\"]\n",
    "for empl in employees[1:]:\n",
    "    if empl[\"salary\"] > max_profit:\n",
    "        max_profit = empl[\"salary\"]\n",
    "        max_city = empl[\"city\"]\n",
    "print(max_profit, max_city)"
   ]
  },
  {
   "cell_type": "code",
   "execution_count": 88,
   "metadata": {},
   "outputs": [
    {
     "data": {
      "text/plain": [
       "150000"
      ]
     },
     "execution_count": 88,
     "metadata": {},
     "output_type": "execute_result"
    }
   ],
   "source": [
    "average_salaries = {\n",
    "    \"Almaty\": [],\n",
    "    \"Astana\": [],\n",
    "    \"Shymkent\": []\n",
    "}"
   ]
  },
  {
   "cell_type": "code",
   "execution_count": null,
   "metadata": {},
   "outputs": [],
   "source": []
  },
  {
   "cell_type": "code",
   "execution_count": null,
   "metadata": {},
   "outputs": [],
   "source": []
  }
 ],
 "metadata": {
  "kernelspec": {
   "display_name": "Python 3",
   "language": "python",
   "name": "python3"
  },
  "language_info": {
   "codemirror_mode": {
    "name": "ipython",
    "version": 3
   },
   "file_extension": ".py",
   "mimetype": "text/x-python",
   "name": "python",
   "nbconvert_exporter": "python",
   "pygments_lexer": "ipython3",
   "version": "3.6.7"
  }
 },
 "nbformat": 4,
 "nbformat_minor": 2
}
